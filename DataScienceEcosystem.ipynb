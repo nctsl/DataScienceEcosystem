{
 "cells": [
  {
   "cell_type": "markdown",
   "id": "046fdd3f-2859-41d0-998b-652ef32f2485",
   "metadata": {},
   "source": [
    "# Data Science Tools and Ecosystem"
   ]
  },
  {
   "cell_type": "markdown",
   "id": "998d91fd-3081-4566-996d-25626fa0367e",
   "metadata": {},
   "source": [
    "In this notebook, Data Science Tools and Ecosystem are summarized."
   ]
  },
  {
   "cell_type": "markdown",
   "id": "d89877eb-fd2f-4eda-948d-8f7cdd507c07",
   "metadata": {},
   "source": [
    "<ol>\n",
    "  <p>Some of the popular languages that Data Scientist use are:</p>\n",
    "  <li>Python</li>\n",
    "  <li>SQL</li>\n",
    "  <li>Julia</li>\n",
    "  <li>R</li>\n",
    "</ol>"
   ]
  },
  {
   "cell_type": "markdown",
   "id": "cd656175-dc97-4b17-b781-35abf076bd15",
   "metadata": {},
   "source": [
    "<ol>\n",
    "  <p>Some of the commonly used libraries used by Data Scientists include:</p>\n",
    "  <li>NumPy</li>\n",
    "  <li>Scikit-learn</li>\n",
    "  <li>Pandas</li>\n",
    "  <li>TensorFlow</li>\n",
    "  <li>Seaborn</li>\n",
    "  <li>Theano</li>\n",
    "</ol>"
   ]
  },
  {
   "cell_type": "markdown",
   "id": "d9dd0717-e648-4774-9cfe-bdd4de74d57a",
   "metadata": {},
   "source": [
    "| Data Science Tools |\n",
    "| -------------|\n",
    "| Weka |\n",
    "| Knime |\n",
    "| R Studio |"
   ]
  },
  {
   "cell_type": "markdown",
   "id": "16ec4001-570a-42b1-83ef-785171742f8c",
   "metadata": {},
   "source": [
    "### Below are a few examples of evaluating arithmetic expressions in Python.\n",
    "Multiplication. 17 × 15 = 255 \\\n",
    "Division. 245 / 5 = 49 \\\n",
    "Addition. 20 + 43 = 63 "
   ]
  },
  {
   "cell_type": "code",
   "execution_count": 4,
   "id": "fb4dc26d-6604-4b44-8989-140fd23f87e3",
   "metadata": {},
   "outputs": [
    {
     "data": {
      "text/plain": [
       "17"
      ]
     },
     "execution_count": 4,
     "metadata": {},
     "output_type": "execute_result"
    }
   ],
   "source": [
    "#This is a simple arithmetic expression to multiply then add integers.\n",
    "(3*4)+5"
   ]
  },
  {
   "cell_type": "code",
   "execution_count": 5,
   "id": "d99181a1-f434-4cc5-b76c-b46348d80d51",
   "metadata": {},
   "outputs": [
    {
     "data": {
      "text/plain": [
       "3.3333333333333335"
      ]
     },
     "execution_count": 5,
     "metadata": {},
     "output_type": "execute_result"
    }
   ],
   "source": [
    "#This will convert 200 minutes to hours by dividing by 60.\n",
    "200/60"
   ]
  },
  {
   "cell_type": "markdown",
   "id": "54b7dfaf-071c-48e7-bcc3-d36d38e4d8a9",
   "metadata": {},
   "source": [
    "<ul>\n",
    "  <p>Objectives:</p>\n",
    "  <li>Header</li>\n",
    "  <li>Introduction</li>\n",
    "  <li>List Popular languages for Data Science</li>\n",
    "  <li>List Popular Libraries for Data Science</li>\n",
    "  <li>Data Science Tools Table</li>\n",
    "  <li>Markdown Arithmetic Examples</li>\n",
    "  <li>Executable Aritmetic Example</li>\n",
    "  <li>Minutes To Hour Calculation</li>\n",
    "</ul>"
   ]
  },
  {
   "attachments": {},
   "cell_type": "markdown",
   "id": "f0758a23-6a6f-4145-aaeb-f298831200e8",
   "metadata": {},
   "source": [
    "## Author:\n",
    "*Necati Sel*"
   ]
  }
 ],
 "metadata": {
  "kernelspec": {
   "display_name": "Python 3 (ipykernel)",
   "language": "python",
   "name": "python3"
  },
  "language_info": {
   "codemirror_mode": {
    "name": "ipython",
    "version": 3
   },
   "file_extension": ".py",
   "mimetype": "text/x-python",
   "name": "python",
   "nbconvert_exporter": "python",
   "pygments_lexer": "ipython3",
   "version": "3.11.7"
  }
 },
 "nbformat": 4,
 "nbformat_minor": 5
}
